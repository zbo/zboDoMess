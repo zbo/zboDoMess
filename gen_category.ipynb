{
 "cells": [
  {
   "cell_type": "code",
   "execution_count": 300,
   "metadata": {
    "collapsed": true
   },
   "outputs": [],
   "source": [
    "from openpyxl import load_workbook\n",
    "from openpyxl.styles import PatternFill\n",
    "filein =  '/Users/zhubo/Documents/中美对话周期.xlsx'\n",
    "wb = load_workbook(filename = filein)\n",
    "sheet_ranges = wb['市场高度']\n",
    "index = 2\n",
    "category = set()\n",
    "while sheet_ranges['c{0}'.format(index)].value is not None:\n",
    "    cate = sheet_ranges['c{0}'.format(index)].value\n",
    "    category.add(cate)\n",
    "    index = index+1"
   ]
  },
  {
   "cell_type": "code",
   "execution_count": 301,
   "outputs": [
    {
     "name": "stdout",
     "output_type": "stream",
     "text": [
      "{'软件服务', '贵州', '工程机械', '智能家居', 'NMN', '广告包装', '公路施工', '电子身份证', '通信', '绿色电力', '光刻胶', '农用机械', '专用机械', '通信设备', '半导体', '房地产', '区域地产', '建筑装饰', '电器仪表', '小金属', '服饰', '京东收购', '互联网', '化学制药', '新冠', '冷链', '全国地产', '医疗保健', '工程', '商贸代理', '俄乌', '公共交通', '电子税务', '贸易', '影视音像', '港口', '火力发电', '新股', '机械基件', '环境保护', '石油加工', '元器件', '电气设备', '建筑工程', '旅游服务', '水运', '锂电池', '转型军工', '家居用品', '数字货币', '铝物流', '医药商业', '绿电', '氟化工', '次新农业', '兽药', '元宇宙', '东数西算', '基建', '铁路', '焦炭加工', '陶瓷', '文教休闲', '医药', '铝', '装修装饰', '纺织', '石油开采', '化工原料', '中成药', '芯片收购', '百货', '出版业', '超市连锁', '三胎', '综合类', '仓储物流', '白酒', '汽车配件'}\n"
     ]
    }
   ],
   "source": [
    "print(category)"
   ],
   "metadata": {
    "collapsed": false,
    "pycharm": {
     "name": "#%%\n"
    }
   }
  },
  {
   "cell_type": "code",
   "execution_count": 302,
   "outputs": [
    {
     "name": "stdout",
     "output_type": "stream",
     "text": [
      "[['数字', '数字货币', '数字身份证', '电子身份证', '软件服务', '东数西算'], ['基建', '房地产', '公路施工'], ['医药', '化学制药', '新冠', '冷链', '医疗保健', '三胎']]\n",
      "['数字货币', '数字身份证', '电子身份证', '软件服务', '东数西算', '房地产', '公路施工', '化学制药', '新冠', '冷链', '医疗保健', '三胎']\n"
     ]
    }
   ],
   "source": [
    "import csv\n",
    "with open('config/category.csv', 'r') as f:\n",
    "    existing = []\n",
    "    all_array = []\n",
    "    reader = csv.reader(f)\n",
    "    for row in reader:\n",
    "        existing.append(row)\n",
    "        all_array.extend(row[1:])\n",
    "    print(existing)\n",
    "    print(all_array)"
   ],
   "metadata": {
    "collapsed": false,
    "pycharm": {
     "name": "#%%\n"
    }
   }
  },
  {
   "cell_type": "code",
   "execution_count": 303,
   "outputs": [
    {
     "name": "stdout",
     "output_type": "stream",
     "text": [
      "['贵州', '工程机械', '智能家居', 'NMN', '广告包装', '通信', '绿色电力', '光刻胶', '农用机械', '专用机械', '通信设备', '半导体', '区域地产', '建筑装饰', '电器仪表', '小金属', '服饰', '京东收购', '互联网', '全国地产', '工程', '商贸代理', '俄乌', '公共交通', '电子税务', '贸易', '影视音像', '港口', '火力发电', '新股', '机械基件', '环境保护', '石油加工', '元器件', '电气设备', '建筑工程', '旅游服务', '水运', '锂电池', '转型军工', '家居用品', '铝物流', '医药商业', '绿电', '氟化工', '次新农业', '兽药', '元宇宙', '基建', '铁路', '焦炭加工', '陶瓷', '文教休闲', '医药', '铝', '装修装饰', '纺织', '石油开采', '化工原料', '中成药', '芯片收购', '百货', '出版业', '超市连锁', '综合类', '仓储物流', '白酒', '汽车配件']\n"
     ]
    }
   ],
   "source": [
    "others = []\n",
    "for s in category:\n",
    "    if s in all_array:\n",
    "        continue\n",
    "    others.append(s)\n",
    "print(others)"
   ],
   "metadata": {
    "collapsed": false,
    "pycharm": {
     "name": "#%%\n"
    }
   }
  },
  {
   "cell_type": "markdown",
   "source": [],
   "metadata": {
    "collapsed": false,
    "pycharm": {
     "name": "#%% md\n"
    }
   }
  },
  {
   "cell_type": "code",
   "source": [
    "for item in existing:\n",
    "    if item[0] not in wb.sheetnames:\n",
    "        ws = wb.create_sheet(title=item)\n",
    "    if '其他' not in wb.sheetnames:\n",
    "        ws = wb.create_sheet('其他')\n",
    "wb.save(filein)"
   ],
   "metadata": {
    "collapsed": false,
    "pycharm": {
     "name": "#%%\n"
    }
   },
   "execution_count": 304,
   "outputs": []
  },
  {
   "cell_type": "code",
   "execution_count": 305,
   "outputs": [],
   "source": [
    "def get_cate(cate):\n",
    "    for item in existing:\n",
    "        if cate in item:\n",
    "            return item[0]\n",
    "    return '其他'"
   ],
   "metadata": {
    "collapsed": false,
    "pycharm": {
     "name": "#%%\n"
    }
   }
  },
  {
   "cell_type": "code",
   "execution_count": 309,
   "outputs": [],
   "source": [
    "index = 2\n",
    "while sheet_ranges['c{0}'.format(index)].value is not None:\n",
    "    cate = sheet_ranges['c{0}'.format(index)].value\n",
    "    index = index + 1\n",
    "    fix_cate = get_cate(cate)"
   ],
   "metadata": {
    "collapsed": false,
    "pycharm": {
     "name": "#%%\n"
    }
   }
  },
  {
   "cell_type": "code",
   "execution_count": 307,
   "outputs": [],
   "source": [
    "wb['基建']['d5'].value=wb['市场高度']['d5'].value\n",
    "wb['基建']['e5'].value=wb['市场高度']['e5'].value\n",
    "wb['基建']['e5'].fill=PatternFill(\"solid\", fgColor=wb['市场高度']['e5'].fill.bgColor)\n",
    "wb.save(filein)"
   ],
   "metadata": {
    "collapsed": false,
    "pycharm": {
     "name": "#%%\n"
    }
   }
  },
  {
   "cell_type": "code",
   "execution_count": 307,
   "outputs": [],
   "source": [],
   "metadata": {
    "collapsed": false,
    "pycharm": {
     "name": "#%%\n"
    }
   }
  }
 ],
 "metadata": {
  "kernelspec": {
   "display_name": "Python 3",
   "language": "python",
   "name": "python3"
  },
  "language_info": {
   "codemirror_mode": {
    "name": "ipython",
    "version": 2
   },
   "file_extension": ".py",
   "mimetype": "text/x-python",
   "name": "python",
   "nbconvert_exporter": "python",
   "pygments_lexer": "ipython2",
   "version": "2.7.6"
  }
 },
 "nbformat": 4,
 "nbformat_minor": 0
}